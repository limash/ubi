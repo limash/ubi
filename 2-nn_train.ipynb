{
 "cells": [
  {
   "cell_type": "code",
   "execution_count": 1,
   "metadata": {},
   "outputs": [],
   "source": [
    "import numpy as np\n",
    "import pandas as pd\n",
    "import tensorflow as tf\n",
    "\n",
    "AUTO = tf.data.experimental.AUTOTUNE"
   ]
  },
  {
   "cell_type": "code",
   "execution_count": 2,
   "metadata": {},
   "outputs": [
    {
     "name": "stdout",
     "output_type": "stream",
     "text": [
      "REPLICAS:  1\n"
     ]
    }
   ],
   "source": [
    "# Function to get hardware strategy\n",
    "def get_hardware_strategy():\n",
    "    try:\n",
    "        # TPU detection. No parameters necessary if TPU_NAME environment variable is\n",
    "        # set: this is always the case on Kaggle.\n",
    "        tpu = tf.distribute.cluster_resolver.TPUClusterResolver()\n",
    "        print('Running on TPU ', tpu.master())\n",
    "    except ValueError:\n",
    "        tpu = None\n",
    "\n",
    "    if tpu:\n",
    "        tf.config.experimental_connect_to_cluster(tpu)\n",
    "        tf.tpu.experimental.initialize_tpu_system(tpu)\n",
    "        strategy = tf.distribute.experimental.TPUStrategy(tpu)\n",
    "        policy = tf.keras.mixed_precision.Policy('mixed_bfloat16')\n",
    "        tf.keras.mixed_precision.set_global_policy(policy)\n",
    "    else:\n",
    "        # Default distribution strategy in Tensorflow. Works on CPU and single GPU.\n",
    "        strategy = tf.distribute.get_strategy()\n",
    "\n",
    "    print(\"REPLICAS: \", strategy.num_replicas_in_sync)\n",
    "    return tpu, strategy\n",
    "\n",
    "tpu, strategy = get_hardware_strategy()\n",
    "# Configuration\n",
    "EPOCHS = 3\n",
    "BATCH_SIZE = 2048 * strategy.num_replicas_in_sync\n",
    "# Learning rate\n",
    "LR = 0.001\n",
    "# Verbosity\n",
    "VERBOSE = 1\n",
    "# For tf.dataset\n",
    "AUTO = tf.data.experimental.AUTOTUNE\n",
    "FEATURES = 300"
   ]
  },
  {
   "cell_type": "markdown",
   "metadata": {},
   "source": [
    "## Training"
   ]
  },
  {
   "cell_type": "code",
   "execution_count": 3,
   "metadata": {},
   "outputs": [],
   "source": [
    "feature_dict = {\n",
    "    \"target\": tf.io.FixedLenFeature([], tf.float32),\n",
    "    \"features\": tf.io.FixedLenFeature([FEATURES], tf.float32),\n",
    "}\n",
    "\n",
    "def read_tfrecord(example):\n",
    "    example = tf.io.parse_single_example(example, feature_dict)\n",
    "    X = example[\"features\"]\n",
    "    y = example[\"target\"]\n",
    "\n",
    "    return X, y"
   ]
  },
  {
   "cell_type": "code",
   "execution_count": 4,
   "metadata": {},
   "outputs": [],
   "source": [
    "# parse an example\n",
    "# ds = tf.data.TFRecordDataset('data/tfrecords/train/fold0/0.tfrec')\n",
    "# iterator = iter(ds)\n",
    "# raw_example = next(iterator)\n",
    "# example = tf.io.parse_single_example(raw_example, feature_dict)"
   ]
  },
  {
   "cell_type": "code",
   "execution_count": 5,
   "metadata": {},
   "outputs": [],
   "source": [
    "def build_model(shape):\n",
    "    with strategy.scope(): \n",
    "        def fc_block(x, units):\n",
    "            x = tf.keras.layers.Dropout(0.35)(x)\n",
    "            x = tf.keras.layers.Dense(units, activation = 'relu')(x)\n",
    "            return x\n",
    "        \n",
    "        inp = tf.keras.layers.Input((shape))\n",
    "        x = fc_block(inp, units = 768)\n",
    "        x = fc_block(x, units = 384)\n",
    "        x = fc_block(x, units = 192)\n",
    "        output = tf.keras.layers.Dense(1, activation = 'linear')(x)\n",
    "        model = tf.keras.models.Model(inputs = [inp], outputs = [output])\n",
    "        opt = tf.keras.optimizers.Adam(learning_rate=LR)\n",
    "        model.compile(\n",
    "            optimizer = opt,\n",
    "            loss = [tf.keras.losses.MeanSquaredError()],\n",
    "        )\n",
    "        return model"
   ]
  },
  {
   "cell_type": "code",
   "execution_count": 6,
   "metadata": {},
   "outputs": [],
   "source": [
    "# Calculate pearson correlation coefficient\n",
    "def pearson_coef(data):\n",
    "    return data.corr()['target']['prediction']\n",
    "\n",
    "# Calculate mean pearson correlation coefficient\n",
    "def comp_metric(valid_df):\n",
    "    return np.mean(valid_df.groupby(['time_id']).apply(pearson_coef))"
   ]
  },
  {
   "cell_type": "code",
   "execution_count": 7,
   "metadata": {},
   "outputs": [],
   "source": [
    "FOLDS = 5"
   ]
  },
  {
   "cell_type": "code",
   "execution_count": 8,
   "metadata": {},
   "outputs": [
    {
     "name": "stderr",
     "output_type": "stream",
     "text": [
      "2022-02-16 16:35:43.081144: I tensorflow/stream_executor/cuda/cuda_gpu_executor.cc:939] successful NUMA node read from SysFS had negative value (-1), but there must be at least one NUMA node, so returning NUMA node zero\n",
      "2022-02-16 16:35:43.113905: I tensorflow/stream_executor/cuda/cuda_gpu_executor.cc:939] successful NUMA node read from SysFS had negative value (-1), but there must be at least one NUMA node, so returning NUMA node zero\n",
      "2022-02-16 16:35:43.114084: I tensorflow/stream_executor/cuda/cuda_gpu_executor.cc:939] successful NUMA node read from SysFS had negative value (-1), but there must be at least one NUMA node, so returning NUMA node zero\n",
      "2022-02-16 16:35:43.114942: I tensorflow/core/platform/cpu_feature_guard.cc:151] This TensorFlow binary is optimized with oneAPI Deep Neural Network Library (oneDNN) to use the following CPU instructions in performance-critical operations:  AVX2 FMA\n",
      "To enable them in other operations, rebuild TensorFlow with the appropriate compiler flags.\n",
      "2022-02-16 16:35:43.115967: I tensorflow/stream_executor/cuda/cuda_gpu_executor.cc:939] successful NUMA node read from SysFS had negative value (-1), but there must be at least one NUMA node, so returning NUMA node zero\n",
      "2022-02-16 16:35:43.116206: I tensorflow/stream_executor/cuda/cuda_gpu_executor.cc:939] successful NUMA node read from SysFS had negative value (-1), but there must be at least one NUMA node, so returning NUMA node zero\n",
      "2022-02-16 16:35:43.116318: I tensorflow/stream_executor/cuda/cuda_gpu_executor.cc:939] successful NUMA node read from SysFS had negative value (-1), but there must be at least one NUMA node, so returning NUMA node zero\n",
      "2022-02-16 16:35:43.512187: I tensorflow/stream_executor/cuda/cuda_gpu_executor.cc:939] successful NUMA node read from SysFS had negative value (-1), but there must be at least one NUMA node, so returning NUMA node zero\n",
      "2022-02-16 16:35:43.512455: I tensorflow/stream_executor/cuda/cuda_gpu_executor.cc:939] successful NUMA node read from SysFS had negative value (-1), but there must be at least one NUMA node, so returning NUMA node zero\n",
      "2022-02-16 16:35:43.512636: I tensorflow/stream_executor/cuda/cuda_gpu_executor.cc:939] successful NUMA node read from SysFS had negative value (-1), but there must be at least one NUMA node, so returning NUMA node zero\n",
      "2022-02-16 16:35:43.512790: I tensorflow/core/common_runtime/gpu/gpu_device.cc:1525] Created device /job:localhost/replica:0/task:0/device:GPU:0 with 3961 MB memory:  -> device: 0, name: NVIDIA GeForce RTX 2060, pci bus id: 0000:01:00.0, compute capability: 7.5\n"
     ]
    },
    {
     "name": "stdout",
     "output_type": "stream",
     "text": [
      "Epoch 1/3\n",
      "   1226/Unknown - 76s 59ms/step - loss: 0.8549"
     ]
    },
    {
     "name": "stderr",
     "output_type": "stream",
     "text": [
      "2022-02-16 16:37:15.227704: W tensorflow/python/util/util.cc:368] Sets are not currently considered sequences, but this may change in the future, so consider avoiding using them.\n"
     ]
    },
    {
     "name": "stdout",
     "output_type": "stream",
     "text": [
      "INFO:tensorflow:Assets written to: data/keras_models/model_0/assets\n",
      "1228/1228 [==============================] - 92s 72ms/step - loss: 0.8549 - val_loss: 0.8329\n",
      "Epoch 2/3\n",
      "1228/1228 [==============================] - 92s 73ms/step - loss: 0.8345 - val_loss: 0.8346\n",
      "Epoch 3/3\n",
      "1228/1228 [==============================] - 92s 73ms/step - loss: 0.8329 - val_loss: 0.8332\n"
     ]
    },
    {
     "name": "stderr",
     "output_type": "stream",
     "text": [
      "2022-02-16 16:40:20.934726: W tensorflow/core/framework/cpu_allocator_impl.cc:82] Allocation of 753939600 exceeds 10% of free system memory.\n",
      "2022-02-16 16:40:21.356063: W tensorflow/core/framework/cpu_allocator_impl.cc:82] Allocation of 753939600 exceeds 10% of free system memory.\n"
     ]
    },
    {
     "name": "stdout",
     "output_type": "stream",
     "text": [
      "The 0 fold best model pearson coefficient is 0.12966906085025978.\n",
      "Epoch 1/3\n",
      "   1225/Unknown - 76s 60ms/step - loss: 0.8573INFO:tensorflow:Assets written to: data/keras_models/model_1/assets\n",
      "1228/1228 [==============================] - 92s 72ms/step - loss: 0.8573 - val_loss: 0.8520\n",
      "Epoch 2/3\n",
      "1226/1228 [============================>.] - ETA: 0s - loss: 0.8309INFO:tensorflow:Assets written to: data/keras_models/model_1/assets\n",
      "1228/1228 [==============================] - 93s 73ms/step - loss: 0.8308 - val_loss: 0.8484\n",
      "Epoch 3/3\n",
      "1228/1228 [==============================] - 92s 73ms/step - loss: 0.8291 - val_loss: 0.8488\n"
     ]
    },
    {
     "name": "stderr",
     "output_type": "stream",
     "text": [
      "2022-02-16 16:45:24.892359: W tensorflow/core/framework/cpu_allocator_impl.cc:82] Allocation of 753942000 exceeds 10% of free system memory.\n",
      "2022-02-16 16:45:25.236109: W tensorflow/core/framework/cpu_allocator_impl.cc:82] Allocation of 753942000 exceeds 10% of free system memory.\n"
     ]
    },
    {
     "name": "stdout",
     "output_type": "stream",
     "text": [
      "The 1 fold best model pearson coefficient is 0.13296177969217302.\n",
      "Epoch 1/3\n",
      "   1226/Unknown - 75s 59ms/step - loss: 0.8561INFO:tensorflow:Assets written to: data/keras_models/model_2/assets\n",
      "1228/1228 [==============================] - 91s 72ms/step - loss: 0.8560 - val_loss: 0.8307\n",
      "Epoch 2/3\n",
      "1227/1228 [============================>.] - ETA: 0s - loss: 0.8355INFO:tensorflow:Assets written to: data/keras_models/model_2/assets\n",
      "1228/1228 [==============================] - 92s 73ms/step - loss: 0.8355 - val_loss: 0.8279\n",
      "Epoch 3/3\n",
      "1225/1228 [============================>.] - ETA: 0s - loss: 0.8336INFO:tensorflow:Assets written to: data/keras_models/model_2/assets\n",
      "1228/1228 [==============================] - 94s 74ms/step - loss: 0.8336 - val_loss: 0.8278\n"
     ]
    },
    {
     "name": "stderr",
     "output_type": "stream",
     "text": [
      "2022-02-16 16:50:28.174779: W tensorflow/core/framework/cpu_allocator_impl.cc:82] Allocation of 753936000 exceeds 10% of free system memory.\n"
     ]
    },
    {
     "name": "stdout",
     "output_type": "stream",
     "text": [
      "The 2 fold best model pearson coefficient is 0.1301504026689765.\n",
      "Epoch 1/3\n",
      "   1225/Unknown - 76s 60ms/step - loss: 0.8628INFO:tensorflow:Assets written to: data/keras_models/model_3/assets\n",
      "1228/1228 [==============================] - 92s 73ms/step - loss: 0.8626 - val_loss: 0.8219\n",
      "Epoch 2/3\n",
      "1225/1228 [============================>.] - ETA: 0s - loss: 0.8374INFO:tensorflow:Assets written to: data/keras_models/model_3/assets\n",
      "1228/1228 [==============================] - 93s 74ms/step - loss: 0.8374 - val_loss: 0.8199\n",
      "Epoch 3/3\n",
      "1228/1228 [==============================] - 93s 73ms/step - loss: 0.8359 - val_loss: 0.8202\n",
      "The 3 fold best model pearson coefficient is 0.12566473912485027.\n",
      "Epoch 1/3\n",
      "   1226/Unknown - 79s 62ms/step - loss: 0.8427INFO:tensorflow:Assets written to: data/keras_models/model_4/assets\n",
      "1228/1228 [==============================] - 95s 75ms/step - loss: 0.8426 - val_loss: 0.8310\n",
      "Epoch 2/3\n",
      "1228/1228 [==============================] - 94s 74ms/step - loss: 0.8339 - val_loss: 0.8313\n",
      "Epoch 3/3\n",
      "1228/1228 [==============================] - ETA: 0s - loss: 0.8319INFO:tensorflow:Assets written to: data/keras_models/model_4/assets\n",
      "1228/1228 [==============================] - 95s 75ms/step - loss: 0.8319 - val_loss: 0.8302\n",
      "The 4 fold best model pearson coefficient is 0.14051524029890652.\n"
     ]
    }
   ],
   "source": [
    "models = []\n",
    "for idx in range(FOLDS):\n",
    "    train_filenames = tf.io.gfile.glob(f\"data/tfrecords/train/fold{idx}/\" + \"*.tfrec\")\n",
    "    train_filenames_ds = tf.data.Dataset.from_tensor_slices(train_filenames)\n",
    "    train_filenames_ds = train_filenames_ds.shuffle(len(train_filenames), reshuffle_each_iteration=True)\n",
    "    train_dataset = train_filenames_ds.interleave(lambda x: tf.data.TFRecordDataset(x),\n",
    "                                                  cycle_length=5,\n",
    "                                                  num_parallel_calls=AUTO)\n",
    "    train_dataset = train_dataset.map(read_tfrecord, num_parallel_calls=AUTO)\n",
    "    train_dataset = train_dataset.shuffle(100000, reshuffle_each_iteration=True)\n",
    "    train_dataset = train_dataset.batch(BATCH_SIZE).prefetch(AUTO)\n",
    "    \n",
    "    valid_filenames = tf.io.gfile.glob(f\"data/tfrecords/validation/fold{idx}/\" + \"*.tfrec\")\n",
    "    valid_filenames_ds = tf.data.Dataset.from_tensor_slices(valid_filenames)\n",
    "    valid_filenames_ds = valid_filenames_ds.shuffle(len(valid_filenames), reshuffle_each_iteration=True)\n",
    "    valid_dataset = valid_filenames_ds.interleave(lambda x: tf.data.TFRecordDataset(x),\n",
    "                                                  cycle_length=5,\n",
    "                                                  num_parallel_calls=AUTO)\n",
    "    valid_dataset = valid_dataset.map(read_tfrecord, num_parallel_calls=AUTO)\n",
    "    valid_dataset = valid_dataset.batch(BATCH_SIZE).prefetch(AUTO)\n",
    "    # build a model\n",
    "    model = build_model(FEATURES)\n",
    "    # model.summary()\n",
    "    checkpoint = tf.keras.callbacks.ModelCheckpoint(f\"data/keras_models/model_{idx}\", save_best_only=True)\n",
    "    history = model.fit(train_dataset, \n",
    "                        epochs=EPOCHS, \n",
    "                        verbose=VERBOSE,\n",
    "                        validation_data=valid_dataset, \n",
    "                        callbacks=[checkpoint],\n",
    "    )\n",
    "    models.append(tf.keras.models.load_model(f\"data/keras_models/model_{idx}\"))\n",
    "    # validation\n",
    "    valid_df = pd.read_pickle(f\"data/tfrecords/validation/fold{idx}/validation.pkl\")\n",
    "    features = [col for col in valid_df.columns if col not in ['row_id', 'time_id', 'investment_id', 'target']]\n",
    "    x_val = valid_df[features]\n",
    "    model = models[idx]\n",
    "    val_pred = model.predict(x_val, batch_size = BATCH_SIZE).astype(np.float32).reshape(-1)\n",
    "    valid_df['prediction'] = val_pred\n",
    "\n",
    "    pearson_coefficient = comp_metric(valid_df)   \n",
    "    print(f\"The {idx} fold best model pearson coefficient is {pearson_coefficient}.\")"
   ]
  },
  {
   "cell_type": "code",
   "execution_count": null,
   "metadata": {},
   "outputs": [],
   "source": []
  }
 ],
 "metadata": {
  "interpreter": {
   "hash": "6363654707a3d37b300368bbc9381cc10fc6ca39658e75fc3e05c7cbeb1913f8"
  },
  "kernelspec": {
   "display_name": "Python 3.8.10 ('ml')",
   "language": "python",
   "name": "python3"
  },
  "language_info": {
   "codemirror_mode": {
    "name": "ipython",
    "version": 3
   },
   "file_extension": ".py",
   "mimetype": "text/x-python",
   "name": "python",
   "nbconvert_exporter": "python",
   "pygments_lexer": "ipython3",
   "version": "3.8.10"
  },
  "orig_nbformat": 4
 },
 "nbformat": 4,
 "nbformat_minor": 2
}
